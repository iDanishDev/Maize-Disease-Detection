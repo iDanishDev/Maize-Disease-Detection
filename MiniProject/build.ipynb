{
 "cells": [
  {
   "cell_type": "code",
   "execution_count": 4,
   "metadata": {},
   "outputs": [],
   "source": [
    "from tensorflow.keras.layers import Dense, Flatten,Conv2D\n",
    "from tensorflow.keras.preprocessing.image import ImageDataGenerator,load_img, img_to_array\n",
    "from tensorflow.keras.models import Sequential\n",
    "import numpy as np\n",
    "import matplotlib.pyplot as plt\n",
    "from tensorflow.keras.layers import MaxPooling2D\n",
    "\n",
    "from tensorflow.compat.v1 import ConfigProto\n",
    "from tensorflow.compat.v1 import InteractiveSession\n",
    "\n",
    "import tensorflow as tf"
   ]
  },
  {
   "cell_type": "code",
   "execution_count": 5,
   "metadata": {},
   "outputs": [
    {
     "name": "stderr",
     "output_type": "stream",
     "text": [
      "C:\\Users\\aaaya\\AppData\\Local\\Programs\\Python\\Python310\\lib\\site-packages\\tensorflow\\python\\client\\session.py:1768: UserWarning: An interactive session is already active. This can cause out-of-memory errors in some cases. You must explicitly call `InteractiveSession.close()` to release resources held by the other session(s).\n",
      "  warnings.warn('An interactive session is already active. This can '\n"
     ]
    }
   ],
   "source": [
    "config = ConfigProto()\n",
    "config.gpu_options.allow_growth = True\n",
    "session = InteractiveSession(config=config)"
   ]
  },
  {
   "cell_type": "code",
   "execution_count": 17,
   "metadata": {},
   "outputs": [
    {
     "name": "stdout",
     "output_type": "stream",
     "text": [
      "Found 4081 images belonging to 4 classes.\n",
      "Found 94 images belonging to 4 classes.\n",
      "{'Maize - Blight': 0, 'Maize - Common_Rust': 1, 'Maize - Gray_Leaf_Spot': 2, 'Maize - Healthy': 3}\n",
      "Epoch 1/40\n",
      "30/30 [==============================] - 18s 580ms/step - loss: 1.2068 - accuracy: 0.5375 - val_loss: 1.9699 - val_accuracy: 0.3936\n",
      "Epoch 2/40\n",
      "30/30 [==============================] - 14s 478ms/step - loss: 0.5880 - accuracy: 0.7672 - val_loss: 1.2938 - val_accuracy: 0.4255\n",
      "Epoch 3/40\n",
      "30/30 [==============================] - 15s 509ms/step - loss: 0.5088 - accuracy: 0.7708 - val_loss: 1.2775 - val_accuracy: 0.4362\n",
      "Epoch 4/40\n",
      "30/30 [==============================] - 15s 493ms/step - loss: 0.5002 - accuracy: 0.7854 - val_loss: 1.9373 - val_accuracy: 0.4255\n",
      "Epoch 5/40\n",
      "30/30 [==============================] - 15s 496ms/step - loss: 0.4768 - accuracy: 0.7865 - val_loss: 1.4604 - val_accuracy: 0.4574\n",
      "Epoch 6/40\n",
      "30/30 [==============================] - 15s 510ms/step - loss: 0.4481 - accuracy: 0.8094 - val_loss: 1.4445 - val_accuracy: 0.4149\n",
      "Epoch 7/40\n",
      "30/30 [==============================] - 15s 485ms/step - loss: 0.4254 - accuracy: 0.8323 - val_loss: 2.1437 - val_accuracy: 0.4149\n",
      "Epoch 8/40\n",
      "30/30 [==============================] - 18s 591ms/step - loss: 0.4145 - accuracy: 0.8365 - val_loss: 1.3753 - val_accuracy: 0.4574\n",
      "Epoch 9/40\n",
      "30/30 [==============================] - 18s 597ms/step - loss: 0.3689 - accuracy: 0.8370 - val_loss: 1.2211 - val_accuracy: 0.4894\n",
      "Epoch 10/40\n",
      "30/30 [==============================] - 17s 561ms/step - loss: 0.3994 - accuracy: 0.8434 - val_loss: 1.6606 - val_accuracy: 0.4149\n",
      "Epoch 11/40\n",
      "30/30 [==============================] - 15s 498ms/step - loss: 0.3619 - accuracy: 0.8500 - val_loss: 1.6902 - val_accuracy: 0.4468\n",
      "Epoch 12/40\n",
      "30/30 [==============================] - 15s 485ms/step - loss: 0.3824 - accuracy: 0.8333 - val_loss: 1.2842 - val_accuracy: 0.4574\n",
      "Epoch 13/40\n",
      "30/30 [==============================] - 16s 524ms/step - loss: 0.3241 - accuracy: 0.8604 - val_loss: 1.1942 - val_accuracy: 0.4787\n",
      "Epoch 14/40\n",
      "30/30 [==============================] - 15s 492ms/step - loss: 0.3450 - accuracy: 0.8625 - val_loss: 1.4428 - val_accuracy: 0.4362\n",
      "Epoch 15/40\n",
      "30/30 [==============================] - 14s 480ms/step - loss: 0.2765 - accuracy: 0.8875 - val_loss: 1.9356 - val_accuracy: 0.4043\n",
      "Epoch 16/40\n",
      "30/30 [==============================] - 15s 491ms/step - loss: 0.3141 - accuracy: 0.8708 - val_loss: 1.1602 - val_accuracy: 0.5000\n",
      "Epoch 17/40\n",
      "30/30 [==============================] - 14s 469ms/step - loss: 0.2810 - accuracy: 0.8781 - val_loss: 1.7526 - val_accuracy: 0.4255\n",
      "Epoch 18/40\n",
      "30/30 [==============================] - 15s 496ms/step - loss: 0.3182 - accuracy: 0.8719 - val_loss: 1.3128 - val_accuracy: 0.4681\n",
      "Epoch 19/40\n",
      "30/30 [==============================] - 15s 484ms/step - loss: 0.3225 - accuracy: 0.8656 - val_loss: 1.8369 - val_accuracy: 0.4468\n",
      "Epoch 20/40\n",
      "30/30 [==============================] - 15s 490ms/step - loss: 0.3635 - accuracy: 0.8593 - val_loss: 1.4432 - val_accuracy: 0.4787\n",
      "Epoch 21/40\n",
      "30/30 [==============================] - 15s 481ms/step - loss: 0.3114 - accuracy: 0.8687 - val_loss: 1.9430 - val_accuracy: 0.4468\n",
      "Epoch 22/40\n",
      "30/30 [==============================] - 15s 487ms/step - loss: 0.3153 - accuracy: 0.8833 - val_loss: 1.6223 - val_accuracy: 0.4681\n",
      "Epoch 23/40\n",
      "30/30 [==============================] - 15s 493ms/step - loss: 0.3892 - accuracy: 0.8313 - val_loss: 1.8733 - val_accuracy: 0.4468\n",
      "Epoch 24/40\n",
      "30/30 [==============================] - 15s 488ms/step - loss: 0.2935 - accuracy: 0.8844 - val_loss: 1.4578 - val_accuracy: 0.4255\n",
      "Epoch 25/40\n",
      "30/30 [==============================] - 14s 469ms/step - loss: 0.2473 - accuracy: 0.8979 - val_loss: 1.4962 - val_accuracy: 0.4468\n",
      "Epoch 26/40\n",
      "30/30 [==============================] - 15s 501ms/step - loss: 0.2596 - accuracy: 0.8865 - val_loss: 1.4457 - val_accuracy: 0.4894\n",
      "Epoch 27/40\n",
      "30/30 [==============================] - 14s 474ms/step - loss: 0.2484 - accuracy: 0.8948 - val_loss: 1.8306 - val_accuracy: 0.4574\n",
      "Epoch 28/40\n",
      "30/30 [==============================] - 15s 480ms/step - loss: 0.2706 - accuracy: 0.8952 - val_loss: 1.8680 - val_accuracy: 0.4255\n",
      "Epoch 29/40\n",
      "30/30 [==============================] - 15s 485ms/step - loss: 0.2273 - accuracy: 0.9073 - val_loss: 2.0162 - val_accuracy: 0.4362\n",
      "Epoch 30/40\n",
      "30/30 [==============================] - 14s 479ms/step - loss: 0.2582 - accuracy: 0.8906 - val_loss: 1.6064 - val_accuracy: 0.4894\n",
      "Epoch 31/40\n",
      "30/30 [==============================] - 15s 499ms/step - loss: 0.2516 - accuracy: 0.8990 - val_loss: 1.8982 - val_accuracy: 0.4468\n",
      "Epoch 32/40\n",
      "30/30 [==============================] - 15s 483ms/step - loss: 0.2464 - accuracy: 0.8974 - val_loss: 1.7059 - val_accuracy: 0.4787\n",
      "Epoch 33/40\n",
      "30/30 [==============================] - 14s 474ms/step - loss: 0.2472 - accuracy: 0.8974 - val_loss: 1.7358 - val_accuracy: 0.4468\n",
      "Epoch 34/40\n",
      "30/30 [==============================] - 15s 485ms/step - loss: 0.2194 - accuracy: 0.9090 - val_loss: 1.8385 - val_accuracy: 0.4468\n",
      "Epoch 35/40\n",
      "30/30 [==============================] - 15s 493ms/step - loss: 0.2072 - accuracy: 0.9125 - val_loss: 1.3597 - val_accuracy: 0.5213\n",
      "Epoch 36/40\n",
      "30/30 [==============================] - 15s 501ms/step - loss: 0.2420 - accuracy: 0.9052 - val_loss: 1.5775 - val_accuracy: 0.5106\n",
      "Epoch 37/40\n",
      "30/30 [==============================] - 15s 492ms/step - loss: 0.2657 - accuracy: 0.8938 - val_loss: 1.3622 - val_accuracy: 0.5106\n",
      "Epoch 38/40\n",
      "30/30 [==============================] - 14s 476ms/step - loss: 0.2284 - accuracy: 0.9079 - val_loss: 1.3719 - val_accuracy: 0.5532\n",
      "Epoch 39/40\n",
      "30/30 [==============================] - 15s 495ms/step - loss: 0.2803 - accuracy: 0.8931 - val_loss: 1.9008 - val_accuracy: 0.4787\n",
      "Epoch 40/40\n",
      "30/30 [==============================] - 16s 518ms/step - loss: 0.3164 - accuracy: 0.8792 - val_loss: 1.6240 - val_accuracy: 0.4681\n"
     ]
    }
   ],
   "source": [
    "model = Sequential()\n",
    "\n",
    "model.add(Conv2D(32,(3,3), activation='relu', input_shape=(128,128,3)))\n",
    "model.add(MaxPooling2D( pool_size = (2,2) ))\n",
    "\n",
    "\n",
    "\n",
    "model.add(Conv2D(32, (3, 3), activation = 'relu'))\n",
    "model.add(MaxPooling2D(pool_size = (2, 2)))\n",
    "\n",
    "\n",
    "\n",
    "model.add(Flatten())\n",
    "model.add(Dense(units=128, activation='relu'))\n",
    "model.add(Dense(units=4, activation='sigmoid'))\n",
    "\n",
    "\n",
    "\n",
    "model.compile(optimizer = \"adam\", loss = 'categorical_crossentropy', metrics = ['accuracy'])\n",
    "\n",
    "\n",
    "\n",
    "\n",
    "\n",
    "train_datagen = ImageDataGenerator(rescale = 1./255, shear_range = 0.2, zoom_range = 0.2, horizontal_flip = True)\n",
    "\n",
    "test_datagen = ImageDataGenerator(rescale = 1./255)\n",
    "\n",
    "training_set = train_datagen.flow_from_directory('C:/Users/aaaya/Desktop/Workspace/KJSCE/MiniProject/dataset/train',target_size = (128, 128),batch_size = 32, class_mode = 'categorical')\n",
    "valid_set = test_datagen.flow_from_directory('C:/Users/aaaya/Desktop/Workspace/KJSCE/MiniProject/dataset/val', target_size = (128, 128), batch_size = 16, class_mode = 'categorical')\n",
    "\n",
    "labels = (training_set.class_indices)\n",
    "print(labels)\n",
    "\n",
    "\n",
    "hist = model.fit(training_set, steps_per_epoch = 30, epochs = 40, validation_data=valid_set)"
   ]
  },
  {
   "cell_type": "code",
   "execution_count": 21,
   "metadata": {},
   "outputs": [
    {
     "name": "stdout",
     "output_type": "stream",
     "text": [
      "1/1 [==============================] - 0s 27ms/step\n",
      "[0]\n"
     ]
    }
   ],
   "source": [
    "img = \"C:/Users/aaaya/Desktop/Workspace/KJSCE/MiniProject/dataset/test/Corn_Gray_Spot (35).jpg\"\n",
    "\n",
    "test_img = load_img(img, target_size=(128,128))\n",
    "\n",
    "\n",
    "\n",
    "\n",
    "from PIL import Image \n",
    "\n",
    "im = Image.open(img)\n",
    "im.show()\n",
    "\n",
    "\n",
    "\n",
    "test_img = img_to_array(test_img)/255\n",
    "test_img = np.expand_dims(test_img, axis = 0)\n",
    "\n",
    "\n",
    "result = model.predict(test_img)\n",
    "\n",
    "pred = np.argmax(result, axis=1)\n",
    "print(pred)"
   ]
  },
  {
   "cell_type": "code",
   "execution_count": 22,
   "metadata": {},
   "outputs": [
    {
     "data": {
      "image/png": "[encoded data removed]",
      "text/plain": [
       "<Figure size 720x720 with 1 Axes>"
      ]
     },
     "metadata": {
      "needs_background": "light"
     },
     "output_type": "display_data"
    }
   ],
   "source": [
    "plt.figure(figsize=(10, 10))\n",
    "plt.plot(hist.history['accuracy'])\n",
    "plt.title(\"model accuracy\")\n",
    "plt.ylabel(\"Accuracy\")\n",
    "plt.xlabel(\"Epochs\")\n",
    "plt.legend([\"accuracy\"])\n",
    "plt.show()"
   ]
  },
  {
   "cell_type": "code",
   "execution_count": 23,
   "metadata": {},
   "outputs": [
    {
     "data": {
      "image/png": "[encoded data removed]",
      "text/plain": [
       "<Figure size 720x720 with 1 Axes>"
      ]
     },
     "metadata": {
      "needs_background": "light"
     },
     "output_type": "display_data"
    }
   ],
   "source": [
    "plt.figure(figsize=(10, 10))\n",
    "plt.plot(hist.history['loss'])\n",
    "plt.title(\"model loss\")\n",
    "plt.ylabel(\"Loss\")\n",
    "plt.xlabel(\"Epochs\")\n",
    "plt.legend([\"loss\",\"Validation Loss\"])\n",
    "plt.show()"
   ]
  },
  {
   "cell_type": "code",
   "execution_count": 24,
   "metadata": {},
   "outputs": [
    {
     "data": {
      "text/plain": [
       "{'loss': [1.2068315744400024,\n",
       "  0.5880213379859924,\n",
       "  0.5088121891021729,\n",
       "  0.5001575350761414,\n",
       "  0.47684139013290405,\n",
       "  0.44811397790908813,\n",
       "  0.42541322112083435,\n",
       "  0.4144684374332428,\n",
       "  0.3688625693321228,\n",
       "  0.39944422245025635,\n",
       "  0.3619357645511627,\n",
       "  0.38239070773124695,\n",
       "  0.32409077882766724,\n",
       "  0.34501275420188904,\n",
       "  0.2764842212200165,\n",
       "  0.3140675127506256,\n",
       "  0.280953586101532,\n",
       "  0.3181678056716919,\n",
       "  0.322508841753006,\n",
       "  0.36347705125808716,\n",
       "  0.3114115297794342,\n",
       "  0.31534236669540405,\n",
       "  0.38921698927879333,\n",
       "  0.2934633791446686,\n",
       "  0.24726158380508423,\n",
       "  0.25959786772727966,\n",
       "  0.248361274600029,\n",
       "  0.2705629765987396,\n",
       "  0.22729140520095825,\n",
       "  0.2582116425037384,\n",
       "  0.2516324818134308,\n",
       "  0.24636906385421753,\n",
       "  0.24718685448169708,\n",
       "  0.21937374770641327,\n",
       "  0.20716264843940735,\n",
       "  0.24204117059707642,\n",
       "  0.265691339969635,\n",
       "  0.22837616503238678,\n",
       "  0.2802796959877014,\n",
       "  0.3164423406124115],\n",
       " 'accuracy': [0.5375000238418579,\n",
       "  0.7671957612037659,\n",
       "  0.7708333134651184,\n",
       "  0.7854166626930237,\n",
       "  0.7864583134651184,\n",
       "  0.809374988079071,\n",
       "  0.8322916626930237,\n",
       "  0.8364583253860474,\n",
       "  0.8370370268821716,\n",
       "  0.8433862328529358,\n",
       "  0.8500000238418579,\n",
       "  0.8333333134651184,\n",
       "  0.8604166507720947,\n",
       "  0.862500011920929,\n",
       "  0.887499988079071,\n",
       "  0.8708333373069763,\n",
       "  0.878125011920929,\n",
       "  0.871874988079071,\n",
       "  0.8656250238418579,\n",
       "  0.8592592477798462,\n",
       "  0.8687499761581421,\n",
       "  0.8833333253860474,\n",
       "  0.831250011920929,\n",
       "  0.8843749761581421,\n",
       "  0.8979166746139526,\n",
       "  0.8864583373069763,\n",
       "  0.8947916626930237,\n",
       "  0.8952381014823914,\n",
       "  0.9072916507720947,\n",
       "  0.890625,\n",
       "  0.8989583253860474,\n",
       "  0.8973544836044312,\n",
       "  0.8973544836044312,\n",
       "  0.908994734287262,\n",
       "  0.9125000238418579,\n",
       "  0.9052083492279053,\n",
       "  0.893750011920929,\n",
       "  0.9079365134239197,\n",
       "  0.8931217193603516,\n",
       "  0.8791666626930237],\n",
       " 'val_loss': [1.9699382781982422,\n",
       "  1.293793797492981,\n",
       "  1.2775118350982666,\n",
       "  1.9373230934143066,\n",
       "  1.4603638648986816,\n",
       "  1.444472074508667,\n",
       "  2.1437461376190186,\n",
       "  1.3752532005310059,\n",
       "  1.2211053371429443,\n",
       "  1.6606029272079468,\n",
       "  1.690200924873352,\n",
       "  1.2841770648956299,\n",
       "  1.1941734552383423,\n",
       "  1.4428094625473022,\n",
       "  1.9355998039245605,\n",
       "  1.1602411270141602,\n",
       "  1.7526297569274902,\n",
       "  1.3127630949020386,\n",
       "  1.8368576765060425,\n",
       "  1.4432117938995361,\n",
       "  1.9430030584335327,\n",
       "  1.6223423480987549,\n",
       "  1.8733221292495728,\n",
       "  1.4578266143798828,\n",
       "  1.496177315711975,\n",
       "  1.4456791877746582,\n",
       "  1.8306435346603394,\n",
       "  1.8680062294006348,\n",
       "  2.016159772872925,\n",
       "  1.6063734292984009,\n",
       "  1.8981927633285522,\n",
       "  1.7059264183044434,\n",
       "  1.7357873916625977,\n",
       "  1.8384696245193481,\n",
       "  1.3596923351287842,\n",
       "  1.5774977207183838,\n",
       "  1.3621916770935059,\n",
       "  1.3719232082366943,\n",
       "  1.9007874727249146,\n",
       "  1.6240453720092773],\n",
       " 'val_accuracy': [0.39361703395843506,\n",
       "  0.42553192377090454,\n",
       "  0.43617022037506104,\n",
       "  0.42553192377090454,\n",
       "  0.457446813583374,\n",
       "  0.41489362716674805,\n",
       "  0.41489362716674805,\n",
       "  0.457446813583374,\n",
       "  0.4893617033958435,\n",
       "  0.41489362716674805,\n",
       "  0.44680851697921753,\n",
       "  0.457446813583374,\n",
       "  0.478723406791687,\n",
       "  0.43617022037506104,\n",
       "  0.40425533056259155,\n",
       "  0.5,\n",
       "  0.42553192377090454,\n",
       "  0.4680851101875305,\n",
       "  0.44680851697921753,\n",
       "  0.478723406791687,\n",
       "  0.44680851697921753,\n",
       "  0.4680851101875305,\n",
       "  0.44680851697921753,\n",
       "  0.42553192377090454,\n",
       "  0.44680851697921753,\n",
       "  0.4893617033958435,\n",
       "  0.457446813583374,\n",
       "  0.42553192377090454,\n",
       "  0.43617022037506104,\n",
       "  0.4893617033958435,\n",
       "  0.44680851697921753,\n",
       "  0.478723406791687,\n",
       "  0.44680851697921753,\n",
       "  0.44680851697921753,\n",
       "  0.521276593208313,\n",
       "  0.5106382966041565,\n",
       "  0.5106382966041565,\n",
       "  0.5531914830207825,\n",
       "  0.478723406791687,\n",
       "  0.4680851101875305]}"
      ]
     },
     "execution_count": 24,
     "metadata": {},
     "output_type": "execute_result"
    }
   ],
   "source": [
    "hist.history"
   ]
  },
  {
   "cell_type": "markdown",
   "metadata": {},
   "source": [
    "'''Saving Model'''"
   ]
  },
  {
   "cell_type": "code",
   "execution_count": 11,
   "metadata": {},
   "outputs": [],
   "source": [
    "model.save('C:/Users/aaaya/Desktop/Workspace/KJSCE/MiniProject/assets/backend_model.h5')"
   ]
  },
  {
   "cell_type": "code",
   "execution_count": 12,
   "metadata": {},
   "outputs": [],
   "source": [
    "path=\"C:/Users/aaaya/Desktop/Workspace/KJSCE/MiniProject/assets/backend_model.h5\"\n",
    "model1 = tf.keras.models.load_model(path)"
   ]
  },
  {
   "cell_type": "code",
   "execution_count": 26,
   "metadata": {},
   "outputs": [
    {
     "name": "stdout",
     "output_type": "stream",
     "text": [
      "Model: \"sequential_1\"\n",
      "_________________________________________________________________\n",
      " Layer (type)                Output Shape              Param #   \n",
      "=================================================================\n",
      " conv2d_2 (Conv2D)           (None, 126, 126, 32)      896       \n",
      "                                                                 \n",
      " max_pooling2d_2 (MaxPooling  (None, 63, 63, 32)       0         \n",
      " 2D)                                                             \n",
      "                                                                 \n",
      " conv2d_3 (Conv2D)           (None, 61, 61, 32)        9248      \n",
      "                                                                 \n",
      " max_pooling2d_3 (MaxPooling  (None, 30, 30, 32)       0         \n",
      " 2D)                                                             \n",
      "                                                                 \n",
      " flatten_1 (Flatten)         (None, 28800)             0         \n",
      "                                                                 \n",
      " dense_2 (Dense)             (None, 128)               3686528   \n",
      "                                                                 \n",
      " dense_3 (Dense)             (None, 4)                 516       \n",
      "                                                                 \n",
      "=================================================================\n",
      "Total params: 3,697,188\n",
      "Trainable params: 3,697,188\n",
      "Non-trainable params: 0\n",
      "_________________________________________________________________\n"
     ]
    }
   ],
   "source": [
    "model1.summary()"
   ]
  },
  {
   "cell_type": "code",
   "execution_count": 25,
   "metadata": {},
   "outputs": [
    {
     "name": "stdout",
     "output_type": "stream",
     "text": [
      "Saved model to disk\n"
     ]
    }
   ],
   "source": [
    "classifier_json=model.to_json()\n",
    "with open(\"model1.json\", \"w\") as json_file:\n",
    "    json_file.write(classifier_json)\n",
    "# serialize weights to HDF5\n",
    "    model.save_weights(\"my_model_weights.h5\")\n",
    "    model.save(\"model.h5\")\n",
    "    print(\"Saved model to disk\")"
   ]
  }
 ],
 "metadata": {
  "interpreter": {
   "hash": "15830743b90ad4037a38fadc01c50c32129da8db0ba2eeba8e0f00ef174f76e0"
  },
  "kernelspec": {
   "display_name": "Python 3.10.0 64-bit",
   "name": "python3"
  },
  "language_info": {
   "codemirror_mode": {
    "name": "ipython",
    "version": 3
   },
   "file_extension": ".py",
   "mimetype": "text/x-python",
   "name": "python",
   "nbconvert_exporter": "python",
   "pygments_lexer": "ipython3",
   "version": "3.10.0"
  },
  "orig_nbformat": 4
 },
 "nbformat": 4,
 "nbformat_minor": 2
}
