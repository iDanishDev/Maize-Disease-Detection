{
 "cells": [
  {
   "cell_type": "code",
   "execution_count": 1,
   "metadata": {},
   "outputs": [],
   "source": [
    "from flask import Flask, render_template, request\n",
    "\n",
    "import numpy as np\n",
    "import os\n",
    "\n",
    "from tensorflow.keras.preprocessing.image import load_img\n",
    "from tensorflow.keras.preprocessing.image import img_to_array\n",
    "from tensorflow.keras.models import load_model"
   ]
  },
  {
   "cell_type": "code",
   "execution_count": 2,
   "metadata": {},
   "outputs": [
    {
     "name": "stdout",
     "output_type": "stream",
     "text": [
      "<keras.engine.sequential.Sequential object at 0x000001BB4B00DF90>\n",
      "Model Loaded Successfully\n"
     ]
    }
   ],
   "source": [
    "filepath = 'C:/Users/aaaya/Desktop/Workspace/KJSCE/MiniProject/assets/backend_model.h5'\n",
    "model = load_model(filepath)\n",
    "print(model)\n",
    "\n",
    "print(\"Model Loaded Successfully\")"
   ]
  },
  {
   "cell_type": "code",
   "execution_count": 3,
   "metadata": {},
   "outputs": [],
   "source": [
    "def pred_maize_disease(img_maize_crop):\n",
    "\n",
    "    image_process = load_img(img_maize_crop, target_size = (128,128))\n",
    "    print(\"Image Recieved\")\n",
    "\n",
    "    image_process = img_to_array(image_process)/255\n",
    "    image_process = np.expand_dims(image_process, axis=0)\n",
    "    \n",
    "    result = model.predict(image_process)\n",
    "\n",
    "    print(\"Result {}\".format(result))\n",
    "\n",
    "    pred = np.argmax(result, axis=1)\n",
    "\n",
    "    print(pred)\n",
    "\n",
    "\n",
    "\n",
    "\n",
    "    if(pred==0):\n",
    "        return blight.html\n",
    "\n",
    "    elif(pred==1):\n",
    "        return commonrust.html\n",
    "\n",
    "    elif(pred==2):\n",
    "        return grayleafspot.html\n",
    "        \n",
    "    elif(pred==3):\n",
    "        return healthy.html\n",
    "\n",
    "\n",
    "\n"
   ]
  },
  {
   "cell_type": "code",
   "execution_count": 4,
   "metadata": {},
   "outputs": [
    {
     "name": "stdout",
     "output_type": "stream",
     "text": [
      " * Serving Flask app '__main__' (lazy loading)\n",
      " * Environment: production\n",
      "\u001b[31m   WARNING: This is a development server. Do not use it in a production deployment.\u001b[0m\n",
      "\u001b[2m   Use a production WSGI server instead.\u001b[0m\n",
      " * Debug mode: off\n"
     ]
    },
    {
     "name": "stderr",
     "output_type": "stream",
     "text": [
      " * Running on http://127.0.0.1:8080/ (Press CTRL+C to quit)\n"
     ]
    }
   ],
   "source": [
    "\n",
    "\n",
    "app = Flask(__name__)\n",
    "\n",
    "@app.route(\"/\", methods=['GET', 'POST'])\n",
    "def home():\n",
    "        return render_template('index.html')\n",
    "    \n",
    " \n",
    "\n",
    "@app.route(\"/predict\", methods = ['GET','POST'])\n",
    "def predict():\n",
    "     if request.method == 'POST':\n",
    "        file = request.files['image']\n",
    "        filename = file.filename        \n",
    "        print(\"Input posted = \", filename)\n",
    "        \n",
    "        file_path = os.path.join('C:/Users/aaaya/Desktop/Workspace/KJSCE/MiniProject/assets/static', filename)\n",
    "        file.save(file_path)\n",
    "\n",
    "        print(\"Predicting \")\n",
    "        pred, output_page = pred_maize_disease(tomato_plant=file_path)\n",
    "              \n",
    "        return render_template(output_page, pred_output = pred, user_image = file_path)\n",
    "    \n",
    "if __name__ == \"__main__\":\n",
    "    app.run(threaded=False,port=8080) "
   ]
  }
 ],
 "metadata": {
  "interpreter": {
   "hash": "15830743b90ad4037a38fadc01c50c32129da8db0ba2eeba8e0f00ef174f76e0"
  },
  "kernelspec": {
   "display_name": "Python 3.10.0 64-bit",
   "language": "python",
   "name": "python3"
  },
  "language_info": {
   "codemirror_mode": {
    "name": "ipython",
    "version": 3
   },
   "file_extension": ".py",
   "mimetype": "text/x-python",
   "name": "python",
   "nbconvert_exporter": "python",
   "pygments_lexer": "ipython3",
   "version": "3.10.0"
  },
  "orig_nbformat": 4
 },
 "nbformat": 4,
 "nbformat_minor": 2
}
