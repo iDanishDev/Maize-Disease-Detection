{
 "cells": [
  {
   "cell_type": "code",
   "execution_count": 2,
   "source": [
    "import numpy as np\r\n",
    "import pandas as pd\r\n",
    "import matplotlib.pylab as plt\r\n",
    "\r\n",
    "import tensorflow.compat.v2.feature_column as fc\r\n",
    "\r\n",
    "import tensorflow as tf\r\n",
    "\r\n"
   ],
   "outputs": [],
   "metadata": {}
  }
 ],
 "metadata": {
  "orig_nbformat": 4,
  "language_info": {
   "name": "python",
   "version": "3.10.0",
   "mimetype": "text/x-python",
   "codemirror_mode": {
    "name": "ipython",
    "version": 3
   },
   "pygments_lexer": "ipython3",
   "nbconvert_exporter": "python",
   "file_extension": ".py"
  },
  "kernelspec": {
   "name": "python3",
   "display_name": "Python 3.10.0 64-bit"
  },
  "interpreter": {
   "hash": "15830743b90ad4037a38fadc01c50c32129da8db0ba2eeba8e0f00ef174f76e0"
  }
 },
 "nbformat": 4,
 "nbformat_minor": 2
}