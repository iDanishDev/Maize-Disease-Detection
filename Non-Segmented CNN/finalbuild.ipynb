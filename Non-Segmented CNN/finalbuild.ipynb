{
 "cells": [
  {
   "cell_type": "code",
   "execution_count": 1,
   "metadata": {},
   "outputs": [
    {
     "name": "stdout",
     "output_type": "stream",
     "text": [
      "<keras.engine.sequential.Sequential object at 0x000001D68D4F86D0>\n",
      "Model Loaded Successfully\n",
      " * Serving Flask app '__main__' (lazy loading)\n",
      " * Environment: production\n",
      "\u001b[31m   WARNING: This is a development server. Do not use it in a production deployment.\u001b[0m\n",
      "\u001b[2m   Use a production WSGI server instead.\u001b[0m\n",
      " * Debug mode: off\n"
     ]
    },
    {
     "name": "stderr",
     "output_type": "stream",
     "text": [
      " * Running on http://127.0.0.1:8080/ (Press CTRL+C to quit)\n",
      "127.0.0.1 - - [12/May/2022 18:36:40] \"GET / HTTP/1.1\" 200 -\n",
      "127.0.0.1 - - [12/May/2022 18:36:47] \"GET /About.html HTTP/1.1\" 200 -\n",
      "127.0.0.1 - - [12/May/2022 18:36:47] \"GET /About.html HTTP/1.1\" 200 -\n",
      "127.0.0.1 - - [12/May/2022 18:36:48] \"GET /index.html HTTP/1.1\" 200 -\n",
      "127.0.0.1 - - [12/May/2022 18:36:49] \"GET /About.html HTTP/1.1\" 200 -\n",
      "127.0.0.1 - - [12/May/2022 18:36:54] \"GET /prediction.html HTTP/1.1\" 200 -\n"
     ]
    },
    {
     "name": "stdout",
     "output_type": "stream",
     "text": [
      "Input posted =  Corn_Blight (50)(Gray_Leaf_Spot).jpg\n",
      "Predicting \n",
      "Image Recieved\n",
      "1/1 [==============================] - 0s 287ms/step\n"
     ]
    },
    {
     "name": "stderr",
     "output_type": "stream",
     "text": [
      "127.0.0.1 - - [12/May/2022 18:36:58] \"POST /predict HTTP/1.1\" 200 -\n"
     ]
    },
    {
     "name": "stdout",
     "output_type": "stream",
     "text": [
      "Result  [[9.1806006e-01 9.9997514e-01 9.4022406e-03 2.7346179e-05]]\n",
      "[1]\n"
     ]
    },
    {
     "name": "stderr",
     "output_type": "stream",
     "text": [
      "127.0.0.1 - - [12/May/2022 18:37:02] \"GET /prediction.html HTTP/1.1\" 200 -\n"
     ]
    },
    {
     "name": "stdout",
     "output_type": "stream",
     "text": [
      "Input posted =  Corn_Common_Rust (25)(blight).jpg\n",
      "Predicting \n",
      "Image Recieved\n",
      "1/1 [==============================] - 0s 34ms/step\n"
     ]
    },
    {
     "name": "stderr",
     "output_type": "stream",
     "text": [
      "127.0.0.1 - - [12/May/2022 18:37:15] \"POST /predict HTTP/1.1\" 200 -\n"
     ]
    },
    {
     "name": "stdout",
     "output_type": "stream",
     "text": [
      "Result  [[9.6771222e-01 9.0079242e-01 9.5555395e-01 7.6485088e-04]]\n",
      "[0]\n"
     ]
    },
    {
     "name": "stderr",
     "output_type": "stream",
     "text": [
      "127.0.0.1 - - [12/May/2022 18:37:15] \"GET /prediction.html HTTP/1.1\" 200 -\n"
     ]
    },
    {
     "name": "stdout",
     "output_type": "stream",
     "text": [
      "Input posted =  Corn_Blight (48)(true).jpg\n",
      "Predicting \n",
      "Image Recieved\n",
      "1/1 [==============================] - 0s 37ms/step\n"
     ]
    },
    {
     "name": "stderr",
     "output_type": "stream",
     "text": [
      "127.0.0.1 - - [12/May/2022 18:37:19] \"POST /predict HTTP/1.1\" 200 -\n"
     ]
    },
    {
     "name": "stdout",
     "output_type": "stream",
     "text": [
      "Result  [[9.9793708e-01 9.4255555e-01 9.9660116e-01 5.9562867e-06]]\n",
      "[0]\n"
     ]
    },
    {
     "name": "stderr",
     "output_type": "stream",
     "text": [
      "127.0.0.1 - - [12/May/2022 18:37:22] \"GET /prediction.html HTTP/1.1\" 200 -\n"
     ]
    },
    {
     "name": "stdout",
     "output_type": "stream",
     "text": [
      "Input posted =  Corn_Common_Rust (29)(blight).jpg\n",
      "Predicting \n",
      "Image Recieved\n",
      "1/1 [==============================] - 0s 36ms/step\n"
     ]
    },
    {
     "name": "stderr",
     "output_type": "stream",
     "text": [
      "127.0.0.1 - - [12/May/2022 18:37:27] \"POST /predict HTTP/1.1\" 200 -\n"
     ]
    },
    {
     "name": "stdout",
     "output_type": "stream",
     "text": [
      "Result  [[9.9999863e-01 9.4639492e-01 9.7617334e-01 1.2149806e-07]]\n",
      "[0]\n"
     ]
    }
   ],
   "source": [
    "from flask import Flask, render_template, request\n",
    "\n",
    "import numpy as np\n",
    "import os\n",
    "\n",
    "import cv2 as cv2\n",
    "import numpy as np\n",
    "import matplotlib.pyplot as plt\n",
    "\n",
    "from tensorflow.keras.preprocessing.image import load_img\n",
    "from tensorflow.keras.preprocessing.image import img_to_array\n",
    "from tensorflow.keras.models import load_model\n",
    "\n",
    "\n",
    "\n",
    "filepath = 'J:/KJSCE-MP/Non-Segmented CNN/backend_model.h5'\n",
    "model = load_model(filepath)\n",
    "print(model)\n",
    "\n",
    "print(\"Model Loaded Successfully\")\n",
    "\n",
    "\n",
    "\n",
    "def pred_maize_disease(img_maize_crop):\n",
    "\n",
    "    image_process = load_img(img_maize_crop, target_size = (200,200))\n",
    "    print(\"Image Recieved\")\n",
    "\n",
    "    image_process = img_to_array(image_process)/255\n",
    "    image_process = np.expand_dims(image_process, axis=0)\n",
    "    \n",
    "    result = model.predict(image_process)\n",
    "\n",
    "    print(\"Result \",result)\n",
    "\n",
    "    pred = np.argmax(result, axis=1)\n",
    "\n",
    "    print(pred)\n",
    "\n",
    "\n",
    "\n",
    "\n",
    "    if(pred==0):\n",
    "        return \"Maize - Blight\",'blight.html'\n",
    "\n",
    "    elif(pred==1):\n",
    "        return \"Maize - Common Rust\",'commonrust.html'\n",
    "\n",
    "    elif(pred==2):\n",
    "        return \"Maize - Gray Leaf Spot\",'grayleafspot.html'\n",
    "        \n",
    "    elif(pred==3):\n",
    "        return \"Maize - Healthy\",'healthy.html'\n",
    "\n",
    "\n",
    "\n",
    "\n",
    "app = Flask(__name__)\n",
    "\n",
    "@app.route(\"/\", methods=['GET', 'POST'])\n",
    "def home():\n",
    "        return render_template('index.html')\n",
    "\n",
    "@app.route(\"/index.html\", methods=['GET', 'POST'])\n",
    "def home_re():\n",
    "        return render_template('index.html')\n",
    "\n",
    "@app.route(\"/About.html\", methods=['GET', 'POST'])\n",
    "def aboutus():\n",
    "        return render_template('About.html')\n",
    "\n",
    "\n",
    "@app.route(\"/prediction.html\", methods=['GET', 'POST'])\n",
    "def prediction():\n",
    "    return render_template(\"prediction.html\")\n",
    "    \n",
    " \n",
    "\n",
    "@app.route(\"/predict\", methods = ['GET','POST'])\n",
    "def predict():\n",
    "\n",
    "     if request.method == 'POST':\n",
    "        file = request.files['image']\n",
    "        filename = file.filename        \n",
    "        print(\"Input posted = \", filename)\n",
    "\n",
    "        # print(\"Jeu\")\n",
    "\n",
    "                \n",
    "        file_path = os.path.join('J:/KJSCE-MP/Non-Segmented CNN/assets/upload', filename)\n",
    "        file.save(file_path)\n",
    "        \n",
    "\n",
    "        print(\"Predicting \")\n",
    "        pred, output_page = pred_maize_disease(img_maize_crop=file_path)\n",
    "              \n",
    "        return render_template(output_page,pred_output = pred, user_image = file_path)\n",
    "    \n",
    "if __name__ == \"__main__\":\n",
    "    app.run(threaded=False,port=8080) "
   ]
  }
 ],
 "metadata": {
  "interpreter": {
   "hash": "3d705a6a038193fd3b64072a75fd39ae7795e2726b39938d9c0a0dd429bbb596"
  },
  "kernelspec": {
   "display_name": "Python 3.10.0 64-bit",
   "language": "python",
   "name": "python3"
  },
  "language_info": {
   "codemirror_mode": {
    "name": "ipython",
    "version": 3
   },
   "file_extension": ".py",
   "mimetype": "text/x-python",
   "name": "python",
   "nbconvert_exporter": "python",
   "pygments_lexer": "ipython3",
   "version": "3.10.0"
  },
  "orig_nbformat": 4
 },
 "nbformat": 4,
 "nbformat_minor": 2
}
