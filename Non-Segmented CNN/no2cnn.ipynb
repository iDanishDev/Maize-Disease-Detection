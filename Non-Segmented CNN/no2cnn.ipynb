{
 "cells": [
  {
   "cell_type": "code",
   "execution_count": 1,
   "metadata": {},
   "outputs": [],
   "source": [
    "from tensorflow.keras.layers import Dense, Flatten,Conv2D\n",
    "from tensorflow.keras.preprocessing.image import ImageDataGenerator,load_img, img_to_array\n",
    "from tensorflow.keras.models import Sequential\n",
    "from tensorflow.keras.utils import normalize\n",
    "import numpy as np\n",
    "import matplotlib.pyplot as plt\n",
    "from tensorflow.keras.layers import MaxPooling2D\n"
   ]
  },
  {
   "cell_type": "code",
   "execution_count": 4,
   "metadata": {},
   "outputs": [
    {
     "name": "stdout",
     "output_type": "stream",
     "text": [
      "Found 4081 images belonging to 4 classes.\n",
      "Found 94 images belonging to 4 classes.\n",
      "{'Maize - Blight': 0, 'Maize - Common_Rust': 1, 'Maize - Gray_Leaf_Spot': 2, 'Maize - Healthy': 3}\n",
      "Epoch 1/40\n",
      "30/30 [==============================] - 32s 1s/step - loss: 1.2127 - accuracy: 0.3719 - val_loss: 0.9743 - val_accuracy: 0.6489\n",
      "Epoch 2/40\n",
      "30/30 [==============================] - 26s 862ms/step - loss: 1.0094 - accuracy: 0.5646 - val_loss: 0.9881 - val_accuracy: 0.5106\n",
      "Epoch 3/40\n",
      "30/30 [==============================] - 25s 847ms/step - loss: 0.9328 - accuracy: 0.5667 - val_loss: 1.3522 - val_accuracy: 0.4468\n",
      "Epoch 4/40\n",
      "30/30 [==============================] - 24s 792ms/step - loss: 0.8301 - accuracy: 0.5719 - val_loss: 1.6597 - val_accuracy: 0.4043\n",
      "Epoch 5/40\n",
      "30/30 [==============================] - 28s 921ms/step - loss: 0.8128 - accuracy: 0.5760 - val_loss: 1.7383 - val_accuracy: 0.4574\n",
      "Epoch 6/40\n",
      "30/30 [==============================] - 28s 925ms/step - loss: 0.8148 - accuracy: 0.5708 - val_loss: 1.9600 - val_accuracy: 0.3298\n",
      "Epoch 7/40\n",
      "30/30 [==============================] - 27s 895ms/step - loss: 0.8420 - accuracy: 0.5513 - val_loss: 1.6498 - val_accuracy: 0.4362\n",
      "Epoch 8/40\n",
      "30/30 [==============================] - 24s 784ms/step - loss: 0.8069 - accuracy: 0.5917 - val_loss: 1.6058 - val_accuracy: 0.4787\n",
      "Epoch 9/40\n",
      "30/30 [==============================] - 23s 757ms/step - loss: 0.8093 - accuracy: 0.5927 - val_loss: 1.6795 - val_accuracy: 0.4681\n",
      "Epoch 10/40\n",
      "30/30 [==============================] - 24s 812ms/step - loss: 0.8140 - accuracy: 0.5667 - val_loss: 1.7434 - val_accuracy: 0.4362\n",
      "Epoch 11/40\n",
      "30/30 [==============================] - 32s 1s/step - loss: 0.8248 - accuracy: 0.5566 - val_loss: 1.9938 - val_accuracy: 0.4043\n",
      "Epoch 12/40\n",
      "30/30 [==============================] - 26s 858ms/step - loss: 0.8217 - accuracy: 0.5693 - val_loss: 1.7052 - val_accuracy: 0.4681\n",
      "Epoch 13/40\n",
      "30/30 [==============================] - 28s 925ms/step - loss: 0.8550 - accuracy: 0.5729 - val_loss: 1.8907 - val_accuracy: 0.4362\n",
      "Epoch 14/40\n",
      "30/30 [==============================] - 25s 823ms/step - loss: 0.7966 - accuracy: 0.6052 - val_loss: 1.3704 - val_accuracy: 0.4468\n",
      "Epoch 15/40\n",
      "30/30 [==============================] - 25s 822ms/step - loss: 0.7531 - accuracy: 0.6423 - val_loss: 1.6792 - val_accuracy: 0.4362\n",
      "Epoch 16/40\n",
      "30/30 [==============================] - 26s 867ms/step - loss: 0.6585 - accuracy: 0.7417 - val_loss: 1.7654 - val_accuracy: 0.4681\n",
      "Epoch 17/40\n",
      "30/30 [==============================] - 25s 833ms/step - loss: 0.6310 - accuracy: 0.7219 - val_loss: 1.8375 - val_accuracy: 0.3723\n",
      "Epoch 18/40\n",
      "30/30 [==============================] - 23s 777ms/step - loss: 0.5877 - accuracy: 0.7635 - val_loss: 1.5253 - val_accuracy: 0.3830\n",
      "Epoch 19/40\n",
      "30/30 [==============================] - 25s 841ms/step - loss: 0.5051 - accuracy: 0.8000 - val_loss: 1.5914 - val_accuracy: 0.4149\n",
      "Epoch 20/40\n",
      "30/30 [==============================] - 25s 825ms/step - loss: 0.4462 - accuracy: 0.8125 - val_loss: 1.3242 - val_accuracy: 0.4574\n",
      "Epoch 21/40\n",
      "30/30 [==============================] - 24s 806ms/step - loss: 0.4139 - accuracy: 0.8323 - val_loss: 1.7052 - val_accuracy: 0.3830\n",
      "Epoch 22/40\n",
      "30/30 [==============================] - 21s 700ms/step - loss: 0.4342 - accuracy: 0.8083 - val_loss: 1.5423 - val_accuracy: 0.4149\n",
      "Epoch 23/40\n",
      "30/30 [==============================] - 22s 734ms/step - loss: 0.4380 - accuracy: 0.8167 - val_loss: 1.2926 - val_accuracy: 0.4468\n",
      "Epoch 24/40\n",
      "30/30 [==============================] - 20s 645ms/step - loss: 0.4269 - accuracy: 0.8125 - val_loss: 1.9957 - val_accuracy: 0.4468\n",
      "Epoch 25/40\n",
      "30/30 [==============================] - 20s 663ms/step - loss: 0.3278 - accuracy: 0.8561 - val_loss: 1.8699 - val_accuracy: 0.4255\n",
      "Epoch 26/40\n",
      "30/30 [==============================] - 20s 653ms/step - loss: 0.3376 - accuracy: 0.8604 - val_loss: 1.6157 - val_accuracy: 0.4362\n",
      "Epoch 27/40\n",
      "30/30 [==============================] - 18s 612ms/step - loss: 0.3720 - accuracy: 0.8370 - val_loss: 1.5599 - val_accuracy: 0.4362\n",
      "Epoch 28/40\n",
      "30/30 [==============================] - 19s 630ms/step - loss: 0.3834 - accuracy: 0.8339 - val_loss: 1.4021 - val_accuracy: 0.4574\n",
      "Epoch 29/40\n",
      "30/30 [==============================] - 19s 642ms/step - loss: 0.3406 - accuracy: 0.8487 - val_loss: 1.8610 - val_accuracy: 0.4362\n",
      "Epoch 30/40\n",
      "30/30 [==============================] - 21s 691ms/step - loss: 0.3498 - accuracy: 0.8375 - val_loss: 1.7403 - val_accuracy: 0.4149\n",
      "Epoch 31/40\n",
      "30/30 [==============================] - 20s 674ms/step - loss: 0.3326 - accuracy: 0.8531 - val_loss: 1.6770 - val_accuracy: 0.4574\n",
      "Epoch 32/40\n",
      "30/30 [==============================] - 19s 637ms/step - loss: 0.2943 - accuracy: 0.8719 - val_loss: 1.8165 - val_accuracy: 0.4574\n",
      "Epoch 33/40\n",
      "30/30 [==============================] - 19s 628ms/step - loss: 0.3161 - accuracy: 0.8667 - val_loss: 1.8372 - val_accuracy: 0.4574\n",
      "Epoch 34/40\n",
      "30/30 [==============================] - 25s 840ms/step - loss: 0.3052 - accuracy: 0.8625 - val_loss: 1.7628 - val_accuracy: 0.4681\n",
      "Epoch 35/40\n",
      "30/30 [==============================] - 22s 713ms/step - loss: 0.3305 - accuracy: 0.8615 - val_loss: 1.3910 - val_accuracy: 0.4468\n",
      "Epoch 36/40\n",
      "30/30 [==============================] - 20s 664ms/step - loss: 0.2852 - accuracy: 0.8698 - val_loss: 1.8837 - val_accuracy: 0.4362\n",
      "Epoch 37/40\n",
      "30/30 [==============================] - 20s 679ms/step - loss: 0.2866 - accuracy: 0.8792 - val_loss: 1.9041 - val_accuracy: 0.4362\n",
      "Epoch 38/40\n",
      "30/30 [==============================] - 19s 650ms/step - loss: 0.2864 - accuracy: 0.8635 - val_loss: 1.9901 - val_accuracy: 0.4468\n",
      "Epoch 39/40\n",
      "30/30 [==============================] - 21s 701ms/step - loss: 0.2952 - accuracy: 0.8656 - val_loss: 1.5806 - val_accuracy: 0.4681\n",
      "Epoch 40/40\n",
      "30/30 [==============================] - 20s 657ms/step - loss: 0.2768 - accuracy: 0.8750 - val_loss: 1.8973 - val_accuracy: 0.4255\n"
     ]
    }
   ],
   "source": [
    "model = Sequential()\n",
    "\n",
    "model.add(Conv2D(2,(3,3), activation='relu', input_shape=(200,200,3)))\n",
    "model.add(MaxPooling2D( pool_size = (2,2) ))\n",
    "\n",
    "\n",
    "model.add(Conv2D(4,(3,3), activation='relu', padding='same'))\n",
    "model.add(MaxPooling2D( pool_size = (2,2) ))\n",
    "\n",
    "\n",
    "model.add(Conv2D(8,(3,3), activation='relu', padding='same'))\n",
    "model.add(MaxPooling2D( pool_size = (2,2) ))\n",
    "\n",
    "\n",
    "model.add(Conv2D(16,(3,3), activation='relu', padding='same'))\n",
    "model.add(MaxPooling2D( pool_size = (2,2) ))\n",
    "\n",
    "\n",
    "model.add(Conv2D(32, (3, 3), activation = 'relu', padding='same'))\n",
    "model.add(MaxPooling2D(pool_size = (2, 2)))\n",
    "\n",
    "\n",
    "model.add(Conv2D(64, (3, 3), activation = 'relu', padding='same'))\n",
    "model.add(MaxPooling2D(pool_size = (2, 2)))\n",
    "\n",
    "\n",
    "model.add(Conv2D(128, (3, 3), activation = 'relu', padding='same'))\n",
    "model.add(MaxPooling2D(pool_size = (2, 2)))\n",
    "\n",
    "\n",
    "\n",
    "\n",
    "model.add(Flatten())\n",
    "model.add(Dense(units=254, activation='relu'))\n",
    "model.add(Dense(units=4, activation='sigmoid'))\n",
    "\n",
    "\n",
    "model.compile(optimizer = \"Adam\", loss = 'categorical_crossentropy', metrics = ['accuracy'])\n",
    "\n",
    "\n",
    "\n",
    "\n",
    "\n",
    "train_datagen = ImageDataGenerator(rescale = 1./255, shear_range = 0.2, zoom_range = 0.2, horizontal_flip = True)\n",
    "\n",
    "test_datagen = ImageDataGenerator(rescale = 1./255)\n",
    "\n",
    "training_set = train_datagen.flow_from_directory('J:/KJSCE-MP/Non-Segmented CNN/dataset/train',target_size = (200, 200),batch_size = 32, class_mode = 'categorical')\n",
    "valid_set = test_datagen.flow_from_directory('J:/KJSCE-MP/Non-Segmented CNN/dataset/val', target_size = (200, 200), batch_size = 16, class_mode = 'categorical')\n",
    "\n",
    "labels = (training_set.class_indices)\n",
    "print(labels)\n",
    "\n",
    "\n",
    "hist = model.fit(training_set, steps_per_epoch = 30, epochs = 40, validation_data=valid_set)"
   ]
  },
  {
   "cell_type": "code",
   "execution_count": null,
   "metadata": {},
   "outputs": [],
   "source": [
    "img = \"E:/KJSCE_MP/MiniProject/dataset/test/Corn_Health (61).jpg\"\n",
    "\n",
    "test_img = load_img(img, target_size=(200,200))\n",
    "\n",
    "test_img = img_to_array(test_img)/255\n",
    "test_img = np.expand_dims(test_img, axis = 0)\n",
    "\n",
    "\n",
    "result = model.predict(test_img)\n",
    "\n",
    "pred = np.argmax(result, axis=1)\n",
    "print(pred)"
   ]
  },
  {
   "cell_type": "code",
   "execution_count": 17,
   "metadata": {},
   "outputs": [
    {
     "data": {
      "image/png": "[encoded data removed]",
      "text/plain": [
       "<Figure size 720x720 with 1 Axes>"
      ]
     },
     "metadata": {
      "needs_background": "light"
     },
     "output_type": "display_data"
    }
   ],
   "source": [
    "plt.figure(figsize=(10, 10))\n",
    "plt.plot(hist.history['accuracy'])\n",
    "plt.title(\"model accuracy\")\n",
    "plt.ylabel(\"Accuracy\")\n",
    "plt.xlabel(\"Epochs\")\n",
    "plt.legend([\"accuracy\"])\n",
    "plt.show()"
   ]
  },
  {
   "cell_type": "code",
   "execution_count": 16,
   "metadata": {},
   "outputs": [
    {
     "data": {
      "text/plain": [
       "dict_keys(['loss', 'accuracy', 'val_loss', 'val_accuracy'])"
      ]
     },
     "execution_count": 16,
     "metadata": {},
     "output_type": "execute_result"
    }
   ],
   "source": [
    "hist.history.keys()"
   ]
  },
  {
   "cell_type": "code",
   "execution_count": 18,
   "metadata": {},
   "outputs": [
    {
     "data": {
      "image/png": "[encoded data removed]",
      "text/plain": [
       "<Figure size 720x720 with 1 Axes>"
      ]
     },
     "metadata": {
      "needs_background": "light"
     },
     "output_type": "display_data"
    }
   ],
   "source": [
    "plt.figure(figsize=(10, 10))\n",
    "plt.plot(hist.history['loss'])\n",
    "plt.title(\"model loss\")\n",
    "plt.ylabel(\"loss\")\n",
    "plt.xlabel(\"Epochs\")\n",
    "plt.legend([\"train\"])\n",
    "plt.show()"
   ]
  },
  {
   "cell_type": "code",
   "execution_count": 19,
   "metadata": {},
   "outputs": [
    {
     "data": {
      "text/plain": [
       "{'loss': [1.2126542329788208,\n",
       "  1.0094103813171387,\n",
       "  0.9327776432037354,\n",
       "  0.8301090598106384,\n",
       "  0.812752902507782,\n",
       "  0.8148338794708252,\n",
       "  0.8420153856277466,\n",
       "  0.8069304823875427,\n",
       "  0.8093138337135315,\n",
       "  0.813994288444519,\n",
       "  0.8248437643051147,\n",
       "  0.8217190504074097,\n",
       "  0.854963481426239,\n",
       "  0.7965651154518127,\n",
       "  0.7531059980392456,\n",
       "  0.6584740877151489,\n",
       "  0.6310144662857056,\n",
       "  0.5877298712730408,\n",
       "  0.505054771900177,\n",
       "  0.44621020555496216,\n",
       "  0.41390135884284973,\n",
       "  0.43424034118652344,\n",
       "  0.4379815459251404,\n",
       "  0.42691490054130554,\n",
       "  0.3278304934501648,\n",
       "  0.337619423866272,\n",
       "  0.37196043133735657,\n",
       "  0.38336020708084106,\n",
       "  0.3406100571155548,\n",
       "  0.3497810661792755,\n",
       "  0.3326149582862854,\n",
       "  0.29428961873054504,\n",
       "  0.3161000907421112,\n",
       "  0.3051512837409973,\n",
       "  0.3305317461490631,\n",
       "  0.28520768880844116,\n",
       "  0.2865850031375885,\n",
       "  0.28636887669563293,\n",
       "  0.29523128271102905,\n",
       "  0.2768440246582031],\n",
       " 'accuracy': [0.37187498807907104,\n",
       "  0.5645833611488342,\n",
       "  0.5666666626930237,\n",
       "  0.5718749761581421,\n",
       "  0.5760416388511658,\n",
       "  0.5708333253860474,\n",
       "  0.5513227581977844,\n",
       "  0.5916666388511658,\n",
       "  0.5927083492279053,\n",
       "  0.5666666626930237,\n",
       "  0.5566137433052063,\n",
       "  0.5693121552467346,\n",
       "  0.5729166865348816,\n",
       "  0.6052083373069763,\n",
       "  0.6423280239105225,\n",
       "  0.7416666746139526,\n",
       "  0.721875011920929,\n",
       "  0.7635416388511658,\n",
       "  0.800000011920929,\n",
       "  0.8125,\n",
       "  0.8322916626930237,\n",
       "  0.8083333373069763,\n",
       "  0.8166666626930237,\n",
       "  0.8125,\n",
       "  0.8560846447944641,\n",
       "  0.8604166507720947,\n",
       "  0.8370370268821716,\n",
       "  0.8338624238967896,\n",
       "  0.8486772775650024,\n",
       "  0.8374999761581421,\n",
       "  0.8531249761581421,\n",
       "  0.871874988079071,\n",
       "  0.8666666746139526,\n",
       "  0.862500011920929,\n",
       "  0.8614583611488342,\n",
       "  0.8697916865348816,\n",
       "  0.8791666626930237,\n",
       "  0.8634920716285706,\n",
       "  0.8656250238418579,\n",
       "  0.875],\n",
       " 'val_loss': [0.9742954969406128,\n",
       "  0.988115668296814,\n",
       "  1.352158784866333,\n",
       "  1.659659504890442,\n",
       "  1.738277554512024,\n",
       "  1.9600093364715576,\n",
       "  1.649753212928772,\n",
       "  1.605777621269226,\n",
       "  1.6795483827590942,\n",
       "  1.7434296607971191,\n",
       "  1.9937514066696167,\n",
       "  1.705215334892273,\n",
       "  1.8907321691513062,\n",
       "  1.3704345226287842,\n",
       "  1.6792219877243042,\n",
       "  1.7653839588165283,\n",
       "  1.837523102760315,\n",
       "  1.5252681970596313,\n",
       "  1.5913574695587158,\n",
       "  1.324174165725708,\n",
       "  1.705174207687378,\n",
       "  1.5423283576965332,\n",
       "  1.2925703525543213,\n",
       "  1.9957306385040283,\n",
       "  1.8699418306350708,\n",
       "  1.6156551837921143,\n",
       "  1.5599005222320557,\n",
       "  1.4020758867263794,\n",
       "  1.8610363006591797,\n",
       "  1.74026620388031,\n",
       "  1.676967740058899,\n",
       "  1.81647789478302,\n",
       "  1.8372173309326172,\n",
       "  1.7628182172775269,\n",
       "  1.3909692764282227,\n",
       "  1.8837438821792603,\n",
       "  1.904103398323059,\n",
       "  1.9901093244552612,\n",
       "  1.580647587776184,\n",
       "  1.897341012954712],\n",
       " 'val_accuracy': [0.6489361524581909,\n",
       "  0.5106382966041565,\n",
       "  0.44680851697921753,\n",
       "  0.40425533056259155,\n",
       "  0.457446813583374,\n",
       "  0.3297872245311737,\n",
       "  0.43617022037506104,\n",
       "  0.478723406791687,\n",
       "  0.4680851101875305,\n",
       "  0.43617022037506104,\n",
       "  0.40425533056259155,\n",
       "  0.4680851101875305,\n",
       "  0.43617022037506104,\n",
       "  0.44680851697921753,\n",
       "  0.43617022037506104,\n",
       "  0.4680851101875305,\n",
       "  0.3723404109477997,\n",
       "  0.38297873735427856,\n",
       "  0.41489362716674805,\n",
       "  0.457446813583374,\n",
       "  0.38297873735427856,\n",
       "  0.41489362716674805,\n",
       "  0.44680851697921753,\n",
       "  0.44680851697921753,\n",
       "  0.42553192377090454,\n",
       "  0.43617022037506104,\n",
       "  0.43617022037506104,\n",
       "  0.457446813583374,\n",
       "  0.43617022037506104,\n",
       "  0.41489362716674805,\n",
       "  0.457446813583374,\n",
       "  0.457446813583374,\n",
       "  0.457446813583374,\n",
       "  0.4680851101875305,\n",
       "  0.44680851697921753,\n",
       "  0.43617022037506104,\n",
       "  0.43617022037506104,\n",
       "  0.44680851697921753,\n",
       "  0.4680851101875305,\n",
       "  0.42553192377090454]}"
      ]
     },
     "execution_count": 19,
     "metadata": {},
     "output_type": "execute_result"
    }
   ],
   "source": [
    "hist.history"
   ]
  },
  {
   "cell_type": "code",
   "execution_count": 20,
   "metadata": {},
   "outputs": [],
   "source": [
    "model.save('backend_model.h5')"
   ]
  },
  {
   "cell_type": "code",
   "execution_count": 21,
   "metadata": {},
   "outputs": [
    {
     "name": "stdout",
     "output_type": "stream",
     "text": [
      "<keras.engine.sequential.Sequential object at 0x000002BBD776DDB0>\n",
      "Model Loaded Successfully\n"
     ]
    }
   ],
   "source": [
    "from tensorflow.keras.models import load_model\n",
    "\n",
    "filepath = 'J:/KJSCE-MP/Non-Segmented CNN/backend_model.h5'\n",
    "model = load_model(filepath)\n",
    "print(model)\n",
    "\n",
    "print(\"Model Loaded Successfully\")\n",
    "\n",
    "\n",
    "\n"
   ]
  },
  {
   "cell_type": "code",
   "execution_count": 42,
   "metadata": {},
   "outputs": [
    {
     "name": "stdout",
     "output_type": "stream",
     "text": [
      "1/1 [==============================] - 0s 30ms/step\n",
      "[3]\n"
     ]
    }
   ],
   "source": [
    "img = \"J:/KJSCE-MP/Non-Segmented CNN/dataset/test/Corn_Health (61).jpg\"\n",
    "\n",
    "test_img = load_img(img, target_size=(200,200))\n",
    "\n",
    "\n",
    "test_img = img_to_array(test_img)/255\n",
    "test_img = np.expand_dims(test_img, axis = 0)\n",
    "\n",
    "\n",
    "result = model.predict(test_img)\n",
    "\n",
    "pred = np.argmax(result, axis=1)\n",
    "print(pred)"
   ]
  }
 ],
 "metadata": {
  "interpreter": {
   "hash": "3d705a6a038193fd3b64072a75fd39ae7795e2726b39938d9c0a0dd429bbb596"
  },
  "kernelspec": {
   "display_name": "Python 3.10.0 64-bit",
   "language": "python",
   "name": "python3"
  },
  "language_info": {
   "codemirror_mode": {
    "name": "ipython",
    "version": 3
   },
   "file_extension": ".py",
   "mimetype": "text/x-python",
   "name": "python",
   "nbconvert_exporter": "python",
   "pygments_lexer": "ipython3",
   "version": "3.10.0"
  },
  "orig_nbformat": 4
 },
 "nbformat": 4,
 "nbformat_minor": 2
}
